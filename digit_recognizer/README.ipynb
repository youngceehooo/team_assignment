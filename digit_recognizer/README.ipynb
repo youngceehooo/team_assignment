{
 "cells": [
  {
   "cell_type": "markdown",
   "id": "cfc0316c",
   "metadata": {},
   "source": [
    "# digit_recognizer\n",
    "## 模型使用说明\n",
    "get_ipython().run_line_magic('matplotlib', 'inline')该语句调用ipython魔法命令，不确定能否以.py文件形式运行，如果报错可以删掉\\\n",
    "df = pd.read_csv(\"C:\\\\Users\\\\obvious\\\\Desktop\\\\digit_recognizer\\\\train.csv\")读取训练数据集，注意修改地址\\\n",
    "df_test = pd.read_csv(\"C:\\\\Users\\\\obvious\\\\Desktop\\\\digit_recognizer\\\\test.csv\")读取测试数据集\\\n",
    "res_df.to_csv('res.csv',index=False)导出输出结果\\\n",
    "## 模型效果\n",
    "pytorch版本kaggle得分在0.98左右"
   ]
  },
  {
   "cell_type": "code",
   "execution_count": null,
   "id": "632dd8cb",
   "metadata": {},
   "outputs": [],
   "source": []
  }
 ],
 "metadata": {
  "kernelspec": {
   "display_name": "Python 3 (ipykernel)",
   "language": "python",
   "name": "python3"
  },
  "language_info": {
   "codemirror_mode": {
    "name": "ipython",
    "version": 3
   },
   "file_extension": ".py",
   "mimetype": "text/x-python",
   "name": "python",
   "nbconvert_exporter": "python",
   "pygments_lexer": "ipython3",
   "version": "3.11.3"
  }
 },
 "nbformat": 4,
 "nbformat_minor": 5
}
